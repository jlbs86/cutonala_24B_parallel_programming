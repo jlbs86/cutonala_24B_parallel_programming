{
  "nbformat": 4,
  "nbformat_minor": 0,
  "metadata": {
    "colab": {
      "provenance": [],
      "authorship_tag": "ABX9TyN+AKlTQKAhioNHQmI9L973",
      "include_colab_link": true
    },
    "kernelspec": {
      "name": "python3",
      "display_name": "Python 3"
    },
    "language_info": {
      "name": "python"
    }
  },
  "cells": [
    {
      "cell_type": "markdown",
      "metadata": {
        "id": "view-in-github",
        "colab_type": "text"
      },
      "source": [
        "<a href=\"https://colab.research.google.com/github/jlbs86/cutonala_24B_parallel_programming/blob/MPPV_Biblioteca-mpi4py/Untitled1.ipynb\" target=\"_parent\"><img src=\"https://colab.research.google.com/assets/colab-badge.svg\" alt=\"Open In Colab\"/></a>"
      ]
    },
    {
      "cell_type": "code",
      "execution_count": 18,
      "metadata": {
        "colab": {
          "base_uri": "https://localhost:8080/"
        },
        "id": "gZZU0TTRyeuq",
        "outputId": "370a3a6c-b235-486d-f3d1-983f4796e530"
      },
      "outputs": [
        {
          "output_type": "stream",
          "name": "stdout",
          "text": [
            "ERROR: unknown command \"installmpi4py\" - maybe you meant \"install\"\n"
          ]
        }
      ],
      "source": [
        "pip installmpi4py\n"
      ]
    },
    {
      "cell_type": "code",
      "source": [
        "! pip install mpi4py\n",
        "\n",
        "\n"
      ],
      "metadata": {
        "colab": {
          "base_uri": "https://localhost:8080/"
        },
        "id": "MqVeReqNylga",
        "outputId": "2cd200e5-157a-4e28-9151-8428f1ae8c0a"
      },
      "execution_count": 19,
      "outputs": [
        {
          "output_type": "stream",
          "name": "stdout",
          "text": [
            "Requirement already satisfied: mpi4py in /usr/local/lib/python3.10/dist-packages (4.0.0)\n"
          ]
        }
      ]
    },
    {
      "cell_type": "code",
      "source": [
        "! mpiexec --oversubscribe --allow-run-as-root -n 4 python /content/sample_data/example.py"
      ],
      "metadata": {
        "id": "PCTg3N0cy1Oh"
      },
      "execution_count": 26,
      "outputs": []
    },
    {
      "cell_type": "code",
      "source": [
        "! mpiexec --oversubscribe --allow-run-as-root -n 4 python /content/sample_data/example.py"
      ],
      "metadata": {
        "id": "W2KH3iDsDPZC"
      },
      "execution_count": 32,
      "outputs": []
    }
  ]
}