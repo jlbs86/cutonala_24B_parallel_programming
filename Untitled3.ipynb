{
  "nbformat": 4,
  "nbformat_minor": 0,
  "metadata": {
    "colab": {
      "provenance": [],
      "authorship_tag": "ABX9TyP6kUeTJk8cmxjNjnYU2rm0",
      "include_colab_link": true
    },
    "kernelspec": {
      "name": "python3",
      "display_name": "Python 3"
    },
    "language_info": {
      "name": "python"
    }
  },
  "cells": [
    {
      "cell_type": "markdown",
      "metadata": {
        "id": "view-in-github",
        "colab_type": "text"
      },
      "source": [
        "<a href=\"https://colab.research.google.com/github/jlbs86/cutonala_24B_parallel_programming/blob/MPPV_bfs_dfs/Untitled3.ipynb\" target=\"_parent\"><img src=\"https://colab.research.google.com/assets/colab-badge.svg\" alt=\"Open In Colab\"/></a>"
      ]
    },
    {
      "cell_type": "code",
      "execution_count": 16,
      "metadata": {
        "colab": {
          "base_uri": "https://localhost:8080/"
        },
        "id": "OykxJHln1Qdr",
        "outputId": "9113c114-2428-4b46-d28a-eda00a687854"
      },
      "outputs": [
        {
          "output_type": "stream",
          "name": "stdout",
          "text": [
            "\r0% [Working]\r            \rGet:1 https://cloud.r-project.org/bin/linux/ubuntu jammy-cran40/ InRelease [3,626 B]\n",
            "Get:2 https://developer.download.nvidia.com/compute/cuda/repos/ubuntu2204/x86_64  InRelease [1,581 B]\n",
            "Ign:3 https://r2u.stat.illinois.edu/ubuntu jammy InRelease\n",
            "Get:4 https://r2u.stat.illinois.edu/ubuntu jammy Release [5,713 B]\n",
            "Get:5 https://r2u.stat.illinois.edu/ubuntu jammy Release.gpg [793 B]\n",
            "Get:6 https://cloud.r-project.org/bin/linux/ubuntu jammy-cran40/ Packages [57.7 kB]\n",
            "Hit:7 https://ppa.launchpadcontent.net/deadsnakes/ppa/ubuntu jammy InRelease\n",
            "Get:8 https://developer.download.nvidia.com/compute/cuda/repos/ubuntu2204/x86_64  Packages [1,068 kB]\n",
            "Get:9 https://ppa.launchpadcontent.net/graphics-drivers/ppa/ubuntu jammy InRelease [24.3 kB]\n",
            "Hit:10 https://ppa.launchpadcontent.net/ubuntugis/ppa/ubuntu jammy InRelease\n",
            "Get:11 https://r2u.stat.illinois.edu/ubuntu jammy/main amd64 Packages [2,601 kB]\n",
            "Get:12 https://r2u.stat.illinois.edu/ubuntu jammy/main all Packages [8,417 kB]\n",
            "Get:13 https://ppa.launchpadcontent.net/graphics-drivers/ppa/ubuntu jammy/main amd64 Packages [54.5 kB]\n",
            "Hit:14 http://archive.ubuntu.com/ubuntu jammy InRelease\n",
            "Get:15 http://archive.ubuntu.com/ubuntu jammy-updates InRelease [128 kB]\n",
            "Get:16 http://archive.ubuntu.com/ubuntu jammy-backports InRelease [127 kB]\n",
            "Get:17 http://security.ubuntu.com/ubuntu jammy-security InRelease [129 kB]\n",
            "Get:18 http://archive.ubuntu.com/ubuntu jammy-updates/universe amd64 Packages [1,450 kB]\n",
            "Get:19 http://archive.ubuntu.com/ubuntu jammy-updates/main amd64 Packages [2,654 kB]\n",
            "Get:20 http://security.ubuntu.com/ubuntu jammy-security/universe amd64 Packages [1,162 kB]\n",
            "Get:21 http://security.ubuntu.com/ubuntu jammy-security/restricted amd64 Packages [3,205 kB]\n",
            "Get:22 http://security.ubuntu.com/ubuntu jammy-security/main amd64 Packages [2,377 kB]\n",
            "Fetched 23.5 MB in 4s (5,497 kB/s)\n",
            "Reading package lists... Done\n",
            "W: Skipping acquire of configured file 'main/source/Sources' as repository 'https://r2u.stat.illinois.edu/ubuntu jammy InRelease' does not seem to provide it (sources.list entry misspelt?)\n",
            "Reading package lists... Done\n",
            "Building dependency tree... Done\n",
            "Reading state information... Done\n",
            "libopenmpi-dev is already the newest version (4.1.2-2ubuntu1).\n",
            "openmpi-bin is already the newest version (4.1.2-2ubuntu1).\n",
            "openmpi-bin set to manually installed.\n",
            "0 upgraded, 0 newly installed, 0 to remove and 50 not upgraded.\n",
            "Requirement already satisfied: mpi4py in /usr/local/lib/python3.10/dist-packages (4.0.1)\n"
          ]
        }
      ],
      "source": [
        "!apt-get update\n",
        "!apt-get install -y libopenmpi-dev openmpi-bin\n",
        "!pip install mpi4py"
      ]
    },
    {
      "cell_type": "code",
      "source": [
        "!mpiexec --oversubscribe --allow-run-as-root -n 4 python /content/sample_data/MPPV_bfs_dfs.py\n"
      ],
      "metadata": {
        "colab": {
          "base_uri": "https://localhost:8080/"
        },
        "id": "ZIQkrnrD41_R",
        "outputId": "f2e3174f-0531-4ad9-b028-f1eb9119c45b"
      },
      "execution_count": 23,
      "outputs": [
        {
          "output_type": "stream",
          "name": "stdout",
          "text": [
            "[Process 0] Graph constructed with edges: {0: [1, 2], 1: [0, 3, 4], 2: [0, 5, 6], 3: [1], 4: [1], 5: [2], 6: [2]}\n",
            "[Process 0] Received adjacency list: {0: [1, 2], 1: [0, 3, 4], 2: [0, 5, 6], 3: [1], 4: [1], 5: [2], 6: [2]}\n",
            "[Process 0] Graph reconstructed: {0: [1, 2, 1, 2], 1: [0, 0, 3, 4, 3, 4], 2: [0, 0, 5, 6, 5, 6], 3: [1, 1], 4: [1, 1], 5: [2, 2], 6: [2, 2]}\n",
            "[Process 0] Starting BFS from node 0.\n",
            "[Process 0] Visiting node 0.\n",
            "[Process 0] Queuing neighbor 1.\n",
            "[Process 0] Queuing neighbor 2.\n",
            "[Process 0] Visiting node 1.\n",
            "[Process 0] Queuing neighbor 3.\n",
            "[Process 0] Queuing neighbor 4.\n",
            "[Process 0] Visiting node 2.\n",
            "[Process 0] Queuing neighbor 5.\n",
            "[Process 0] Queuing neighbor 6.\n",
            "[Process 0] Visiting node 3.\n",
            "[Process 0] Visiting node 4.\n",
            "[Process 0] Visiting node 5.\n",
            "[Process 0] Visiting node 6.\n",
            "[Process 0] BFS Result starting from node 0: [0, 1, 2, 3, 4, 5, 6]\n",
            "[Process 0] Starting DFS from node 0.\n",
            "[Process 0] Visiting node 0 in DFS.\n",
            "[Process 0] Visiting node 1 in DFS.\n",
            "[Process 0] Visiting node 3 in DFS.\n",
            "[Process 0] Visiting node 4 in DFS.\n",
            "[Process 0] Visiting node 2 in DFS.\n",
            "[Process 0] Visiting node 5 in DFS.\n",
            "[Process 0] Visiting node 6 in DFS.\n",
            "[Process 0] DFS Result starting from node 0: [0, 1, 3, 4, 2, 5, 6]\n",
            "[Process 2] Received adjacency list: {0: [1, 2], 1: [0, 3, 4], 2: [0, 5, 6], 3: [1], 4: [1], 5: [2], 6: [2]}\n",
            "[Process 2] Graph reconstructed: {0: [1, 2, 1, 2], 1: [0, 0, 3, 4, 3, 4], 2: [0, 0, 5, 6, 5, 6], 3: [1, 1], 4: [1, 1], 5: [2, 2], 6: [2, 2]}\n",
            "[Process 2] Starting BFS from node 2.\n",
            "[Process 1] Received adjacency list: {0: [1, 2], 1: [0, 3, 4], 2: [0, 5, 6], 3: [1], 4: [1], 5: [2], 6: [2]}\n",
            "[Process 2] Visiting node 2.\n",
            "[Process 1] Graph reconstructed: {0: [1, 2, 1, 2], 1: [0, 0, 3, 4, 3, 4], 2: [0, 0, 5, 6, 5, 6], 3: [1, 1], 4: [1, 1], 5: [2, 2], 6: [2, 2]}\n",
            "[Process 1] Starting BFS from node 1.\n",
            "[Process 1] Visiting node 1.\n",
            "[Process 1] Queuing neighbor 0.\n",
            "[Process 1] Queuing neighbor 3.\n",
            "[Process 1] Queuing neighbor 4.\n",
            "[Process 1] Visiting node 0.\n",
            "[Process 1] Queuing neighbor 2.\n",
            "[Process 1] Visiting node 3.\n",
            "[Process 1] Visiting node 4.\n",
            "[Process 1] Visiting node 2.\n",
            "[Process 1] Queuing neighbor 5.\n",
            "[Process 1] Queuing neighbor 6.\n",
            "[Process 1] Visiting node 5.\n",
            "[Process 1] Visiting node 6.\n",
            "[Process 1] BFS Result starting from node 1: [1, 0, 3, 4, 2, 5, 6]\n",
            "[Process 1] Starting DFS from node 1.\n",
            "[Process 1] Visiting node 1 in DFS.\n",
            "[Process 1] Visiting node 0 in DFS.\n",
            "[Process 1] Visiting node 2 in DFS.\n",
            "[Process 1] Visiting node 5 in DFS.\n",
            "[Process 1] Visiting node 6 in DFS.\n",
            "[Process 1] Visiting node 3 in DFS.\n",
            "[Process 1] Visiting node 4 in DFS.\n",
            "[Process 1] DFS Result starting from node 1: [1, 0, 2, 5, 6, 3, 4]\n",
            "[Process 2] Queuing neighbor 0.\n",
            "[Process 2] Queuing neighbor 5.\n",
            "[Process 2] Queuing neighbor 6.\n",
            "[Process 2] Visiting node 0.\n",
            "[Process 2] Queuing neighbor 1.\n",
            "[Process 2] Visiting node 5.\n",
            "[Process 2] Visiting node 6.\n",
            "[Process 2] Visiting node 1.\n",
            "[Process 2] Queuing neighbor 3.\n",
            "[Process 2] Queuing neighbor 4.\n",
            "[Process 2] Visiting node 3.\n",
            "[Process 2] Visiting node 4.\n",
            "[Process 2] BFS Result starting from node 2: [2, 0, 5, 6, 1, 3, 4]\n",
            "[Process 2] Starting DFS from node 2.\n",
            "[Process 2] Visiting node 2 in DFS.\n",
            "[Process 2] Visiting node 0 in DFS.\n",
            "[Process 2] Visiting node 1 in DFS.\n",
            "[Process 2] Visiting node 3 in DFS.\n",
            "[Process 2] Visiting node 4 in DFS.\n",
            "[Process 2] Visiting node 5 in DFS.\n",
            "[Process 2] Visiting node 6 in DFS.\n",
            "[Process 2] DFS Result starting from node 2: [2, 0, 1, 3, 4, 5, 6]\n",
            "[Process 3] Received adjacency list: {0: [1, 2], 1: [0, 3, 4], 2: [0, 5, 6], 3: [1], 4: [1], 5: [2], 6: [2]}\n",
            "[Process 3] Graph reconstructed: {0: [1, 2, 1, 2], 1: [0, 0, 3, 4, 3, 4], 2: [0, 0, 5, 6, 5, 6], 3: [1, 1], 4: [1, 1], 5: [2, 2], 6: [2, 2]}\n",
            "[Process 3] Starting BFS from node 3.\n",
            "[Process 3] Visiting node 3.\n",
            "[Process 3] Queuing neighbor 1.\n",
            "[Process 3] Visiting node 1.\n",
            "[Process 3] Queuing neighbor 0.\n",
            "[Process 3] Queuing neighbor 4.\n",
            "[Process 3] Visiting node 0.\n",
            "[Process 3] Queuing neighbor 2.\n",
            "[Process 3] Visiting node 4.\n",
            "[Process 3] Visiting node 2.\n",
            "[Process 3] Queuing neighbor 5.\n",
            "[Process 3] Queuing neighbor 6.\n",
            "[Process 3] Visiting node 5.\n",
            "[Process 3] Visiting node 6.\n",
            "[Process 3] BFS Result starting from node 3: [3, 1, 0, 4, 2, 5, 6]\n",
            "[Process 3] Starting DFS from node 3.\n",
            "[Process 3] Visiting node 3 in DFS.\n",
            "[Process 3] Visiting node 1 in DFS.\n",
            "[Process 3] Visiting node 0 in DFS.\n",
            "[Process 3] Visiting node 2 in DFS.\n",
            "[Process 3] Visiting node 5 in DFS.\n",
            "[Process 3] Visiting node 6 in DFS.\n",
            "[Process 3] Visiting node 4 in DFS.\n",
            "[Process 3] DFS Result starting from node 3: [3, 1, 0, 2, 5, 6, 4]\n",
            "BFS Results from all processes: [[0, 1, 2, 3, 4, 5, 6], [1, 0, 3, 4, 2, 5, 6], [2, 0, 5, 6, 1, 3, 4], [3, 1, 0, 4, 2, 5, 6]]\n",
            "DFS Results from all processes: [[0, 1, 3, 4, 2, 5, 6], [1, 0, 2, 5, 6, 3, 4], [2, 0, 1, 3, 4, 5, 6], [3, 1, 0, 2, 5, 6, 4]]\n"
          ]
        }
      ]
    }
  ]
}